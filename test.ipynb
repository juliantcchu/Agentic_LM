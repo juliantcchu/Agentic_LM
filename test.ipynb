{
 "cells": [
  {
   "cell_type": "code",
   "execution_count": 2,
   "metadata": {},
   "outputs": [
    {
     "name": "stdout",
     "output_type": "stream",
     "text": [
      "\n",
      "\n",
      "\n",
      "\n",
      "                    ________  ________  __    __  ________\n",
      "                   |        \\|        \\|  \\  |  \\|        \\\n",
      "                    \\$$$$$$$$| $$$$$$$$| $$  | $$ \\$$$$$$$$\n",
      "                      | $$   | $$__     \\$$\\/  $$   | $$\n",
      "                      | $$   | $$  \\     >$$  $$    | $$\n",
      "                      | $$   | $$$$$    /  $$$$\\    | $$\n",
      "                      | $$   | $$_____ |  $$ \\$$\\   | $$\n",
      "                      | $$   | $$     \\| $$  | $$   | $$\n",
      "                       \\$$    \\$$$$$$$$ \\$$   \\$$    \\$$\n",
      "              __       __   ______   _______   __        _______\n",
      "             |  \\  _  |  \\ /      \\ |       \\ |  \\      |       \\\n",
      "             | $$ / \\ | $$|  $$$$$$\\| $$$$$$$\\| $$      | $$$$$$$\\\n",
      "             | $$/  $\\| $$| $$  | $$| $$__| $$| $$      | $$  | $$\n",
      "             | $$  $$$\\ $$| $$  | $$| $$    $$| $$      | $$  | $$\n",
      "             | $$ $$\\$$\\$$| $$  | $$| $$$$$$$\\| $$      | $$  | $$\n",
      "             | $$$$  \\$$$$| $$__/ $$| $$  | $$| $$_____ | $$__/ $$\n",
      "             | $$$    \\$$$ \\$$    $$| $$  | $$| $$     \\| $$    $$\n",
      "              \\$$      \\$$  \\$$$$$$  \\$$   \\$$ \\$$$$$$$$ \\$$$$$$$\n",
      "\n",
      "Hey, thanks for coming over to the TextWorld today, there is something I need\n",
      "you to do for me. First step, retrieve the American limited edition keycard from\n",
      "the type 1 box. And then, unlock the American limited edition gate. After that,\n",
      "open the American limited edition gate. Then, make an effort to move east.\n",
      "Following that, pick-up the shirt from the floor of the attic. Got that? Good!\n",
      "\n",
      "-= Scullery =-\n",
      "You've stumbled into a normal room. Your mind races to think of what kind of\n",
      "room would be normal. And then it hits you. Of course. You're in the scullery.\n",
      "You begin to take stock of what's in the room.\n",
      "\n",
      "You can make out a type 1 box. The type 1 box contains an American limited\n",
      "edition keycard.\n",
      "\n",
      "There is a closed American limited edition gate leading east. There is a closed\n",
      "door leading south.\n",
      "\n",
      ">\n",
      "-= Scullery =-0/1\n",
      "\n"
     ]
    }
   ],
   "source": [
    "import gym\n",
    "import textworld.gym\n",
    "\n",
    "# Register a text-based game as a new Gym's environment.\n",
    "env_id = textworld.gym.register_game(\"tw_games/custom_game.z8\",\n",
    "                                     max_episode_steps=50)\n",
    "\n",
    "env = gym.make(env_id)  # Start the environment.\n",
    "\n",
    "obs, infos = env.reset()  # Start new episode.\n",
    "env.render()\n",
    "\n",
    "score, moves, done = 0, 0, False\n",
    "while not done:\n",
    "\n",
    "    # task 1: substitute this with our model output\n",
    "    command = input(\"> \")\n",
    "\n",
    "\n",
    "    obs, score, done, infos = env.step(command)\n",
    "    env.render()\n",
    "    moves += 1\n",
    "\n",
    "env.close()\n",
    "print(\"moves: {}; score: {}\".format(moves, score))\n",
    "\n",
    "# task 2, calculate reward function based on moves and score and propagate the reward back"
   ]
  },
  {
   "cell_type": "code",
   "execution_count": null,
   "metadata": {},
   "outputs": [],
   "source": []
  },
  {
   "cell_type": "code",
   "execution_count": 2,
   "metadata": {},
   "outputs": [
    {
     "name": "stdout",
     "output_type": "stream",
     "text": [
      "Name: gym\n",
      "Version: 0.26.2\n",
      "Summary: Gym: A universal API for reinforcement learning environments\n",
      "Home-page: https://www.gymlibrary.dev/\n",
      "Author: Gym Community\n",
      "Author-email: jkterry@umd.edu\n",
      "License: MIT\n",
      "Location: /Users/julianchu/Library/Python/3.9/lib/python/site-packages\n",
      "Requires: cloudpickle, gym-notices, importlib-metadata, numpy\n",
      "Required-by: \n"
     ]
    }
   ],
   "source": []
  },
  {
   "cell_type": "code",
   "execution_count": 1,
   "metadata": {},
   "outputs": [],
   "source": [
    "from GPT4_agent import GPT4_agent"
   ]
  },
  {
   "cell_type": "code",
   "execution_count": 2,
   "metadata": {},
   "outputs": [],
   "source": [
    "task = '''Hey, thanks for coming over to the TextWorld today, there is something I need\n",
    "you to do for me. First step, retrieve the American limited edition keycard from\n",
    "the type 1 box. And then, unlock the American limited edition gate. After that,\n",
    "open the American limited edition gate. Then, make an effort to move east.\n",
    "Following that, pick-up the shirt from the floor of the attic. Got that? Good!'''\n",
    "\n",
    "commands = '''  look:                describe the current room\n",
    "  goal:                print the goal of this game\n",
    "  inventory:           print player's inventory\n",
    "  go <dir>:            move the player north, east, south or west\n",
    "  examine ...:         examine something more closely\n",
    "  eat ...:             eat edible food\n",
    "  open ...:            open a door or a container\n",
    "  close ...:           close a door or a container\n",
    "  drop ...:            drop an object on the floor\n",
    "  take ...:            take an object that is on the floor\n",
    "  put ... on ...:      place an object on a supporter\n",
    "  take ... from ...:   take an object from a container or a supporter\n",
    "  insert ... into ...: place an object into a container\n",
    "  lock ... with ...:   lock a door or a container with a key\n",
    "  unlock ... with ...: unlock a door or a container with a key\n",
    "'''\n",
    "\n",
    "\n",
    "\n",
    "\n",
    "agent = GPT4_agent(task, commands)"
   ]
  },
  {
   "cell_type": "code",
   "execution_count": 7,
   "metadata": {},
   "outputs": [
    {
     "data": {
      "text/plain": [
       "'take shirt'"
      ]
     },
     "execution_count": 7,
     "metadata": {},
     "output_type": "execute_result"
    }
   ],
   "source": [
    "observation = '''\n",
    "-= Attic =-\n",
    "You are in an attic. A standard one. You decide to just list off a complete list\n",
    "of everything you see in the room, because hey, why not?\n",
    "\n",
    "\n",
    "\n",
    "There is an open American limited edition gate leading west. There is an\n",
    "unguarded exit to the south.\n",
    "\n",
    "There is a shirt and a cloak on the floor.\n",
    "\n",
    "\n",
    ">\n",
    "-= Attic =-0/5\n",
    "'''\n",
    "\n",
    "command = agent.act(observation)\n",
    "command"
   ]
  },
  {
   "cell_type": "code",
   "execution_count": 4,
   "metadata": {},
   "outputs": [
    {
     "data": {
      "text/plain": [
       "'take American limited edition keycard from type 1 box'"
      ]
     },
     "execution_count": 4,
     "metadata": {},
     "output_type": "execute_result"
    }
   ],
   "source": [
    "command"
   ]
  },
  {
   "cell_type": "code",
   "execution_count": 6,
   "metadata": {},
   "outputs": [
    {
     "data": {
      "text/plain": [
       "[{'role': 'system',\n",
       "  'content': \"Task: Hey, thanks for coming over to the TextWorld today, there is something I need\\nyou to do for me. First step, retrieve the American limited edition keycard from\\nthe type 1 box. And then, unlock the American limited edition gate. After that,\\nopen the American limited edition gate. Then, make an effort to move east.\\nFollowing that, pick-up the shirt from the floor of the attic. Got that? Good! \\n\\nAvailable Commands: \\n  look:                describe the current room\\n  goal:                print the goal of this game\\n  inventory:           print player's inventory\\n  go <dir>:            move the player north, east, south or west\\n  examine ...:         examine something more closely\\n  eat ...:             eat edible food\\n  open ...:            open a door or a container\\n  close ...:           close a door or a container\\n  drop ...:            drop an object on the floor\\n  take ...:            take an object that is on the floor\\n  put ... on ...:      place an object on a supporter\\n  take ... from ...:   take an object from a container or a supporter\\n  insert ... into ...: place an object into a container\\n  lock ... with ...:   lock a door or a container with a key\\n  unlock ... with ...: unlock a door or a container with a key\\n \\n\\nInstructoin: Accomplish the Task given using the Available Commands and by observing what is presented to you. write the command between [command]. For example, [command]go east[command]\"},\n",
       " {'role': 'user',\n",
       "  'content': \"-= Scullery =-\\nYou've stumbled into a normal room. Your mind races to think of what kind of\\nroom would be normal. And then it hits you. Of course. You're in the scullery.\\nYou begin to take stock of what's in the room.\\n\\nYou can make out a type 1 box. The type 1 box contains an American limited\\nedition keycard.\\n\\nThere is a closed American limited edition gate leading east. There is a closed\\ndoor leading south.\\n\\n>\\n\\n\\n What will you do next? Give me the next command. \"},\n",
       " 'role',\n",
       " 'content',\n",
       " {'role': 'user',\n",
       "  'content': 'You take the American limited edition keycard from the type 1 box.\\n\\n\\n\\n>\\n-= Scullery =-0/3\\n>\\n\\n\\n What will you do next? Give me the next command. '}]"
      ]
     },
     "execution_count": 6,
     "metadata": {},
     "output_type": "execute_result"
    }
   ],
   "source": [
    "agent.history"
   ]
  },
  {
   "cell_type": "code",
   "execution_count": null,
   "metadata": {},
   "outputs": [],
   "source": []
  }
 ],
 "metadata": {
  "kernelspec": {
   "display_name": "Python 3",
   "language": "python",
   "name": "python3"
  },
  "language_info": {
   "codemirror_mode": {
    "name": "ipython",
    "version": 3
   },
   "file_extension": ".py",
   "mimetype": "text/x-python",
   "name": "python",
   "nbconvert_exporter": "python",
   "pygments_lexer": "ipython3",
   "version": "3.9.7"
  }
 },
 "nbformat": 4,
 "nbformat_minor": 2
}
