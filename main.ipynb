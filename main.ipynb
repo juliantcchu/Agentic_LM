{
 "cells": [
  {
   "cell_type": "code",
   "execution_count": 1,
   "metadata": {},
   "outputs": [
    {
     "name": "stderr",
     "output_type": "stream",
     "text": [
      "/Users/julianchu/Desktop/Agentic_LM/venv/lib/python3.9/site-packages/gym/utils/passive_env_checker.py:233: DeprecationWarning: `np.bool8` is a deprecated alias for `np.bool_`.  (Deprecated NumPy 1.24)\n",
      "  if not isinstance(terminated, (bool, np.bool8)):\n"
     ]
    }
   ],
   "source": []
  },
  {
   "cell_type": "code",
   "execution_count": 2,
   "metadata": {},
   "outputs": [
    {
     "name": "stdout",
     "output_type": "stream",
     "text": [
      "\n",
      "\n",
      "\n",
      "\n",
      "                    ________  ________  __    __  ________\n",
      "                   |        \\|        \\|  \\  |  \\|        \\\n",
      "                    \\$$$$$$$$| $$$$$$$$| $$  | $$ \\$$$$$$$$\n",
      "                      | $$   | $$__     \\$$\\/  $$   | $$\n",
      "                      | $$   | $$  \\     >$$  $$    | $$\n",
      "                      | $$   | $$$$$    /  $$$$\\    | $$\n",
      "                      | $$   | $$_____ |  $$ \\$$\\   | $$\n",
      "                      | $$   | $$     \\| $$  | $$   | $$\n",
      "                       \\$$    \\$$$$$$$$ \\$$   \\$$    \\$$\n",
      "              __       __   ______   _______   __        _______\n",
      "             |  \\  _  |  \\ /      \\ |       \\ |  \\      |       \\\n",
      "             | $$ / \\ | $$|  $$$$$$\\| $$$$$$$\\| $$      | $$$$$$$\\\n",
      "             | $$/  $\\| $$| $$  | $$| $$__| $$| $$      | $$  | $$\n",
      "             | $$  $$$\\ $$| $$  | $$| $$    $$| $$      | $$  | $$\n",
      "             | $$ $$\\$$\\$$| $$  | $$| $$$$$$$\\| $$      | $$  | $$\n",
      "             | $$$$  \\$$$$| $$__/ $$| $$  | $$| $$_____ | $$__/ $$\n",
      "             | $$$    \\$$$ \\$$    $$| $$  | $$| $$     \\| $$    $$\n",
      "              \\$$      \\$$  \\$$$$$$  \\$$   \\$$ \\$$$$$$$$ \\$$$$$$$\n",
      "\n",
      "Hey, thanks for coming over to the TextWorld today, there is something I need\n",
      "you to do for me. First step, retrieve the American limited edition keycard from\n",
      "the type 1 box. And then, unlock the American limited edition gate. After that,\n",
      "open the American limited edition gate. Then, make an effort to move east.\n",
      "Following that, pick-up the shirt from the floor of the attic. Got that? Good!\n",
      "\n",
      "-= Scullery =-\n",
      "You've stumbled into a normal room. Your mind races to think of what kind of\n",
      "room would be normal. And then it hits you. Of course. You're in the scullery.\n",
      "You begin to take stock of what's in the room.\n",
      "\n",
      "You can make out a type 1 box. The type 1 box contains an American limited\n",
      "edition keycard.\n",
      "\n",
      "There is a closed American limited edition gate leading east. There is a closed\n",
      "door leading south.\n",
      "\n",
      ">\n",
      "-= Scullery =-0/1\n",
      "\n"
     ]
    }
   ],
   "source": [
    "import gym\n",
    "import textworld.gym\n",
    "\n",
    "# Register a text-based game as a new Gym's environment.\n",
    "env_id = textworld.gym.register_game(\"tw_games/custom_game.z8\",\n",
    "                                     max_episode_steps=50)\n",
    "\n",
    "env = gym.make(env_id)  # Start the environment.\n",
    "\n",
    "obs, infos = env.reset()  # Start new episode.\n",
    "env.render()\n",
    "\n",
    "score, moves, done = 0, 0, False\n",
    "while not done:\n",
    "\n",
    "    # task 1: substitute this with our model output\n",
    "    command = input(\"> \")\n",
    "\n",
    "\n",
    "    obs, score, done, infos = env.step(command)\n",
    "    env.render()\n",
    "    moves += 1\n",
    "\n",
    "env.close()\n",
    "print(\"moves: {}; score: {}\".format(moves, score))\n",
    "\n",
    "# task 2, calculate reward function based on moves and score and propagate the reward back"
   ]
  },
  {
   "cell_type": "code",
   "execution_count": null,
   "metadata": {},
   "outputs": [],
   "source": []
  },
  {
   "cell_type": "code",
   "execution_count": 2,
   "metadata": {},
   "outputs": [
    {
     "name": "stdout",
     "output_type": "stream",
     "text": [
      "Name: gym\n",
      "Version: 0.26.2\n",
      "Summary: Gym: A universal API for reinforcement learning environments\n",
      "Home-page: https://www.gymlibrary.dev/\n",
      "Author: Gym Community\n",
      "Author-email: jkterry@umd.edu\n",
      "License: MIT\n",
      "Location: /Users/julianchu/Library/Python/3.9/lib/python/site-packages\n",
      "Requires: cloudpickle, gym-notices, importlib-metadata, numpy\n",
      "Required-by: \n"
     ]
    }
   ],
   "source": []
  },
  {
   "cell_type": "code",
   "execution_count": null,
   "metadata": {},
   "outputs": [],
   "source": []
  }
 ],
 "metadata": {
  "kernelspec": {
   "display_name": "Python 3",
   "language": "python",
   "name": "python3"
  },
  "language_info": {
   "codemirror_mode": {
    "name": "ipython",
    "version": 3
   },
   "file_extension": ".py",
   "mimetype": "text/x-python",
   "name": "python",
   "nbconvert_exporter": "python",
   "pygments_lexer": "ipython3",
   "version": "3.9.7"
  }
 },
 "nbformat": 4,
 "nbformat_minor": 2
}
